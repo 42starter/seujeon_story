{
 "cells": [
  {
   "cell_type": "markdown",
   "metadata": {},
   "source": [
    "## 갭마인더 데이터 집합 불러오기"
   ]
  },
  {
   "cell_type": "code",
   "execution_count": 5,
   "metadata": {},
   "outputs": [],
   "source": [
    "import pandas as pd\n",
    "\n",
    "df = pd.read_csv('../data/gapminder.tsv', sep='\\t')"
   ]
  },
  {
   "cell_type": "markdown",
   "metadata": {},
   "source": [
    "## 불러온 데이터 집합(데이터 프레임) 살펴보기"
   ]
  },
  {
   "cell_type": "code",
   "execution_count": 15,
   "metadata": {},
   "outputs": [
    {
     "name": "stdout",
     "output_type": "stream",
     "text": [
      "       country continent  year  lifeExp       pop   gdpPercap\n",
      "0  Afghanistan      Asia  1952   28.801   8425333  779.445314\n",
      "1  Afghanistan      Asia  1957   30.332   9240934  820.853030\n",
      "2  Afghanistan      Asia  1962   31.997  10267083  853.100710\n",
      "3  Afghanistan      Asia  1967   34.020  11537966  836.197138\n",
      "4  Afghanistan      Asia  1972   36.088  13079460  739.981106\n",
      "       country continent  year  lifeExp       pop   gdpPercap\n",
      "1699  Zimbabwe    Africa  1987   62.351   9216418  706.157306\n",
      "1700  Zimbabwe    Africa  1992   60.377  10704340  693.420786\n",
      "1701  Zimbabwe    Africa  1997   46.809  11404948  792.449960\n",
      "1702  Zimbabwe    Africa  2002   39.989  11926563  672.038623\n",
      "1703  Zimbabwe    Africa  2007   43.487  12311143  469.709298\n",
      "<class 'pandas.core.frame.DataFrame'>\n",
      "(1704, 6)\n",
      "Index(['country', 'continent', 'year', 'lifeExp', 'pop', 'gdpPercap'], dtype='object')\n",
      "country       object\n",
      "continent     object\n",
      "year           int64\n",
      "lifeExp      float64\n",
      "pop            int64\n",
      "gdpPercap    float64\n",
      "dtype: object\n",
      "<class 'pandas.core.frame.DataFrame'>\n",
      "RangeIndex: 1704 entries, 0 to 1703\n",
      "Data columns (total 6 columns):\n",
      " #   Column     Non-Null Count  Dtype  \n",
      "---  ------     --------------  -----  \n",
      " 0   country    1704 non-null   object \n",
      " 1   continent  1704 non-null   object \n",
      " 2   year       1704 non-null   int64  \n",
      " 3   lifeExp    1704 non-null   float64\n",
      " 4   pop        1704 non-null   int64  \n",
      " 5   gdpPercap  1704 non-null   float64\n",
      "dtypes: float64(2), int64(2), object(2)\n",
      "memory usage: 80.0+ KB\n",
      "None\n"
     ]
    }
   ],
   "source": [
    "# 첫 행부터 5개 출력\n",
    "print(df.head())\n",
    "# 맨 뒤 행부터 5개 출력\n",
    "print(df.tail())\n",
    "# 타입 출력\n",
    "print(type(df))\n",
    "# 행의 수와 열의 수\n",
    "print(df.shape)\n",
    "# 열 목록 출력\n",
    "print(df.columns)\n",
    "# 각 열의 데이터 타입 출력\n",
    "print(df.dtypes)\n",
    "# 데이터 프레임의 전체 내용 출력\n",
    "print(df.info())"
   ]
  },
  {
   "cell_type": "markdown",
   "metadata": {},
   "source": [
    "## 열 단위로 데이터 추출하기"
   ]
  },
  {
   "cell_type": "code",
   "execution_count": 16,
   "metadata": {},
   "outputs": [
    {
     "name": "stdout",
     "output_type": "stream",
     "text": [
      "<class 'pandas.core.series.Series'>\n",
      "<class 'pandas.core.frame.DataFrame'>\n",
      "          country continent  year\n",
      "0     Afghanistan      Asia  1952\n",
      "1     Afghanistan      Asia  1957\n",
      "2     Afghanistan      Asia  1962\n",
      "3     Afghanistan      Asia  1967\n",
      "4     Afghanistan      Asia  1972\n",
      "...           ...       ...   ...\n",
      "1699     Zimbabwe    Africa  1987\n",
      "1700     Zimbabwe    Africa  1992\n",
      "1701     Zimbabwe    Africa  1997\n",
      "1702     Zimbabwe    Africa  2002\n",
      "1703     Zimbabwe    Africa  2007\n",
      "\n",
      "[1704 rows x 3 columns]\n"
     ]
    }
   ],
   "source": [
    "# 인덱싱을 통하여 열 단위로 추출이 가능하고 하나의 열 타입은 시리즈가 됨\n",
    "country_df = df['country']\n",
    "print(type(country_df))\n",
    "\n",
    "# 인덱싱을 통하여 여러 열을 추출이 가능함 여러 열 추출한 값이 타입은 데이터프레임이다.\n",
    "subset = df[['country', 'continent', 'year']]\n",
    "print(type(subset))\n",
    "print(subset)"
   ]
  },
  {
   "cell_type": "markdown",
   "metadata": {},
   "source": [
    "## loc 속성으로 행 단위 데이터 추출하기"
   ]
  },
  {
   "cell_type": "code",
   "execution_count": 19,
   "metadata": {},
   "outputs": [
    {
     "name": "stdout",
     "output_type": "stream",
     "text": [
      "country      Afghanistan\n",
      "continent           Asia\n",
      "year                1952\n",
      "lifeExp           28.801\n",
      "pop              8425333\n",
      "gdpPercap        779.445\n",
      "Name: 0, dtype: object\n",
      "<class 'pandas.core.series.Series'>\n",
      "country      Zimbabwe\n",
      "continent      Africa\n",
      "year             2007\n",
      "lifeExp        43.487\n",
      "pop          12311143\n",
      "gdpPercap     469.709\n",
      "Name: 1703, dtype: object\n"
     ]
    }
   ],
   "source": [
    "# 인덱스의 라벨이 0인 행 추출, 인덱스의 라벨을 이용하는 것이므로 loc[-1]은 없을 수 있다.\n",
    "print(df.loc[0])\n",
    "# 하나의 행도 시리즈가 된다.\n",
    "print(type(df.loc[0]))\n",
    "\n",
    "# 마지막 행 추출\n",
    "number_of_rows = df.shape[0]\n",
    "last_row_index = number_of_rows - 1\n",
    "print(df.loc[last_row_index])"
   ]
  },
  {
   "cell_type": "markdown",
   "metadata": {},
   "source": [
    "## tail과 loc는 조금 달라요!"
   ]
  },
  {
   "cell_type": "code",
   "execution_count": 23,
   "metadata": {},
   "outputs": [
    {
     "name": "stdout",
     "output_type": "stream",
     "text": [
      "       country continent  year  lifeExp       pop   gdpPercap\n",
      "1703  Zimbabwe    Africa  2007   43.487  12311143  469.709298\n",
      "<class 'pandas.core.frame.DataFrame'>\n",
      "        country continent  year  lifeExp       pop   gdpPercap\n",
      "0   Afghanistan      Asia  1952   28.801   8425333  779.445314\n",
      "99   Bangladesh      Asia  1967   43.453  62821884  721.186086\n",
      "<class 'pandas.core.series.Series'>\n"
     ]
    }
   ],
   "source": [
    "# 맨 뒤에 행부터 하나의 행 추출\n",
    "print(df.tail(n=1))\n",
    "\n",
    "\n",
    "# loc을 이용하여 3개의 인덱스 값에 해당하는 행 추출\n",
    "print(df.loc[[0, 99]])\n",
    "\n",
    "\n",
    "# 하나의 행을 추출 했을 때 tail 과 loc의 추출된 데이터의 타입이 다르다.\n",
    "print(type(df.tail(n=1)))\n",
    "print(type(df.loc[0]))"
   ]
  },
  {
   "cell_type": "markdown",
   "metadata": {},
   "source": [
    "## iloc 속성으로 행 단위 데이터 추출하기"
   ]
  },
  {
   "cell_type": "code",
   "execution_count": 28,
   "metadata": {},
   "outputs": [
    {
     "name": "stdout",
     "output_type": "stream",
     "text": [
      "country      Zimbabwe\n",
      "continent      Africa\n",
      "year             2007\n",
      "lifeExp        43.487\n",
      "pop          12311143\n",
      "gdpPercap     469.709\n",
      "Name: 1703, dtype: object\n",
      "         country continent  year  lifeExp       pop    gdpPercap\n",
      "0    Afghanistan      Asia  1952   28.801   8425333   779.445314\n",
      "99    Bangladesh      Asia  1967   43.453  62821884   721.186086\n",
      "999     Mongolia      Asia  1967   51.253   1149500  1226.041130\n",
      "<class 'pandas.core.series.Series'>\n",
      "<class 'pandas.core.frame.DataFrame'>\n"
     ]
    }
   ],
   "source": [
    "# integer position을 통해서 값을 찾는 방법\n",
    "print(df.iloc[-1])\n",
    "print(df.iloc[[0, 99, 999]])\n",
    "print(type(df.iloc[-1]))\n",
    "print(type(df.iloc[[0, 99, 999]]))"
   ]
  },
  {
   "cell_type": "markdown",
   "metadata": {},
   "source": [
    "## 파이썬 슬라이싱 구문을 조합하여 원하는 데이터 추출하기"
   ]
  },
  {
   "cell_type": "code",
   "execution_count": 31,
   "metadata": {},
   "outputs": [
    {
     "name": "stdout",
     "output_type": "stream",
     "text": [
      "      year       pop\n",
      "0     1952   8425333\n",
      "1     1957   9240934\n",
      "2     1962  10267083\n",
      "3     1967  11537966\n",
      "4     1972  13079460\n",
      "...    ...       ...\n",
      "1699  1987   9216418\n",
      "1700  1992  10704340\n",
      "1701  1997  11404948\n",
      "1702  2002  11926563\n",
      "1703  2007  12311143\n",
      "\n",
      "[1704 rows x 2 columns]\n",
      "   year       pop   gdpPercap\n",
      "0  1952   8425333  779.445314\n",
      "1  1957   9240934  820.853030\n",
      "2  1962  10267083  853.100710\n",
      "3  1967  11537966  836.197138\n",
      "4  1972  13079460  739.981106\n"
     ]
    }
   ],
   "source": [
    "# loc[행 라벨 리스트, 열 라벨 리스트]로 행과 열을 슬라이싱 할 수 있다.\n",
    "subset = df.loc[:, ['year', 'pop']]\n",
    "print(subset)\n",
    "# iloc[행 인덱스 리스트, 열 인덱스 리스트]로 행과 열을 슬라이싱 할 수 있다.\n",
    "subset = df.iloc[:, [2, 4, -1]]\n",
    "print(subset.head())"
   ]
  },
  {
   "cell_type": "markdown",
   "metadata": {},
   "source": [
    "## iloc 속성과 range 메서드로 원하는 데이터 추출하기\n",
    "## 열 지정값에 파이썬 슬라이싱을 사용하여 원하는 데이터 추출하기"
   ]
  },
  {
   "cell_type": "code",
   "execution_count": 35,
   "metadata": {},
   "outputs": [
    {
     "name": "stdout",
     "output_type": "stream",
     "text": [
      "       country continent  year  lifeExp       pop\n",
      "0  Afghanistan      Asia  1952   28.801   8425333\n",
      "1  Afghanistan      Asia  1957   30.332   9240934\n",
      "2  Afghanistan      Asia  1962   31.997  10267083\n",
      "3  Afghanistan      Asia  1967   34.020  11537966\n",
      "4  Afghanistan      Asia  1972   36.088  13079460\n",
      "       country continent  year  lifeExp       pop\n",
      "0  Afghanistan      Asia  1952   28.801   8425333\n",
      "1  Afghanistan      Asia  1957   30.332   9240934\n",
      "2  Afghanistan      Asia  1962   31.997  10267083\n",
      "3  Afghanistan      Asia  1967   34.020  11537966\n",
      "4  Afghanistan      Asia  1972   36.088  13079460\n",
      "   lifeExp       pop   gdpPercap\n",
      "0   28.801   8425333  779.445314\n",
      "1   30.332   9240934  820.853030\n",
      "2   31.997  10267083  853.100710\n",
      "3   34.020  11537966  836.197138\n",
      "4   36.088  13079460  739.981106\n",
      "   lifeExp       pop   gdpPercap\n",
      "0   28.801   8425333  779.445314\n",
      "1   30.332   9240934  820.853030\n",
      "2   31.997  10267083  853.100710\n",
      "3   34.020  11537966  836.197138\n",
      "4   36.088  13079460  739.981106\n"
     ]
    }
   ],
   "source": [
    "# range 또는 슬라이싱을 이용해서 원하는 데이터 추출하기\n",
    "subset = df.iloc[:, range(5)]\n",
    "subset2 = df.iloc[:, 0:5]\n",
    "print(subset.head())\n",
    "print(subset2.head())\n",
    "subset = df.iloc[:, range(3, 6)]\n",
    "subset2 = df.iloc[:, 3:6]\n",
    "print(subset.head())\n",
    "print(subset2.head())"
   ]
  },
  {
   "cell_type": "markdown",
   "metadata": {},
   "source": [
    "# loc, iloc 자유자재로 사용하기"
   ]
  },
  {
   "cell_type": "code",
   "execution_count": 38,
   "metadata": {},
   "outputs": [
    {
     "name": "stdout",
     "output_type": "stream",
     "text": [
      "         country  lifeExp    gdpPercap\n",
      "0    Afghanistan   28.801   779.445314\n",
      "99    Bangladesh   43.453   721.186086\n",
      "999     Mongolia   51.253  1226.041130\n",
      "         country  lifeExp    gdpPercap\n",
      "0    Afghanistan   28.801   779.445314\n",
      "99    Bangladesh   43.453   721.186086\n",
      "999     Mongolia   51.253  1226.041130\n",
      "        country  lifeExp    gdpPercap\n",
      "10  Afghanistan   42.129   726.734055\n",
      "11  Afghanistan   43.828   974.580338\n",
      "12      Albania   55.230  1601.056136\n",
      "13      Albania   59.280  1942.284244\n"
     ]
    }
   ],
   "source": [
    "print(df.iloc[[0, 99, 999], [0, 3, 5]])\n",
    "print(df.loc[[0, 99, 999], ['country', 'lifeExp', 'gdpPercap']])\n",
    "print(df.loc[10:13, ['country', 'lifeExp', 'gdpPercap']])"
   ]
  },
  {
   "cell_type": "markdown",
   "metadata": {},
   "source": [
    "# 그룹화한 데이터의 평균 구하기"
   ]
  },
  {
   "cell_type": "code",
   "execution_count": 42,
   "metadata": {},
   "outputs": [
    {
     "name": "stdout",
     "output_type": "stream",
     "text": [
      "       country continent  year  lifeExp       pop   gdpPercap\n",
      "0  Afghanistan      Asia  1952   28.801   8425333  779.445314\n",
      "1  Afghanistan      Asia  1957   30.332   9240934  820.853030\n",
      "2  Afghanistan      Asia  1962   31.997  10267083  853.100710\n",
      "3  Afghanistan      Asia  1967   34.020  11537966  836.197138\n",
      "4  Afghanistan      Asia  1972   36.088  13079460  739.981106\n",
      "5  Afghanistan      Asia  1977   38.438  14880372  786.113360\n",
      "6  Afghanistan      Asia  1982   39.854  12881816  978.011439\n",
      "7  Afghanistan      Asia  1987   40.822  13867957  852.395945\n",
      "8  Afghanistan      Asia  1992   41.674  16317921  649.341395\n",
      "9  Afghanistan      Asia  1997   41.763  22227415  635.341351\n",
      "<pandas.core.groupby.generic.DataFrameGroupBy object at 0x0000023FF33BBD00>\n",
      "year\n",
      "1952    6966.18200\n",
      "1957    7314.05096\n",
      "1962    7612.51336\n",
      "1967    7906.31712\n",
      "1972    8185.92888\n",
      "1977    8458.96236\n",
      "1982    8737.71400\n",
      "1987    8976.19100\n",
      "1992    9110.76800\n",
      "1997    9232.08400\n",
      "2002    9328.67900\n",
      "2007    9515.05400\n",
      "Name: lifeExp, dtype: float64\n"
     ]
    }
   ],
   "source": [
    "print(df.head(n=10))\n",
    "# groupby를 통해 동일한 열의 값의 단위로 묶음\n",
    "year_group = df.groupby('year')\n",
    "print(year_group)\n",
    "# 같은 year로 행을 묶은 다음 각각의 lifeExp의 평균 구하기\n",
    "print(year_group['lifeExp'].mean())\n",
    "# 같은 year로 행을 묶은 다음 각각의 lifeExp의 합 구하기\n",
    "print(year_group['lifeExp'].sum())"
   ]
  },
  {
   "cell_type": "markdown",
   "metadata": {},
   "source": [
    "# 그룹화한 데이터의 개수 세어보기"
   ]
  },
  {
   "cell_type": "code",
   "execution_count": 58,
   "metadata": {},
   "outputs": [
    {
     "name": "stdout",
     "output_type": "stream",
     "text": [
      "      country  continent  lifeExp  pop  gdpPercap\n",
      "year                                             \n",
      "1952      142        142      142  142        142\n",
      "1957      142        142      142  142        142\n",
      "1962      142        142      142  142        142\n",
      "1967      142        142      142  142        142\n",
      "1972      142        142      142  142        142\n",
      "1977      142        142      142  142        142\n",
      "1982      142        142      142  142        142\n",
      "1987      142        142      142  142        142\n",
      "1992      142        142      142  142        142\n",
      "1997      142        142      142  142        142\n",
      "2002      142        142      142  142        142\n",
      "2007      142        142      142  142        142\n"
     ]
    }
   ],
   "source": [
    "# 그룹화된 데이터프레임은 키와 밸류로 묶이고\n",
    "# 키는 그룹화한 열의 값\n",
    "# 밸류는 키를 갖는 모든 행들에 해당한다.\n",
    "\n",
    "# year 열로 그룹화\n",
    "grouped_year_df = df.groupby('year')\n",
    "\n",
    "# 그룹화된 데이터의 각각의 개수 출력\n",
    "print(grouped_year_df.count())"
   ]
  },
  {
   "cell_type": "code",
   "execution_count": 61,
   "metadata": {
    "scrolled": true
   },
   "outputs": [
    {
     "name": "stdout",
     "output_type": "stream",
     "text": [
      "key--\n",
      " 1952\n",
      "value--\n",
      "                  country continent  year  lifeExp       pop    gdpPercap\n",
      "0            Afghanistan      Asia  1952   28.801   8425333   779.445314\n",
      "12               Albania    Europe  1952   55.230   1282697  1601.056136\n",
      "24               Algeria    Africa  1952   43.077   9279525  2449.008185\n",
      "36                Angola    Africa  1952   30.015   4232095  3520.610273\n",
      "48             Argentina  Americas  1952   62.485  17876956  5911.315053\n",
      "...                  ...       ...   ...      ...       ...          ...\n",
      "1644             Vietnam      Asia  1952   40.412  26246839   605.066492\n",
      "1656  West Bank and Gaza      Asia  1952   43.160   1030585  1515.592329\n",
      "1668         Yemen, Rep.      Asia  1952   32.548   4963829   781.717576\n",
      "1680              Zambia    Africa  1952   42.038   2672000  1147.388831\n",
      "1692            Zimbabwe    Africa  1952   48.451   3080907   406.884115\n",
      "\n",
      "[142 rows x 6 columns]\n",
      "key--\n",
      " 1957\n",
      "value--\n",
      "                  country continent  year  lifeExp       pop    gdpPercap\n",
      "1            Afghanistan      Asia  1957   30.332   9240934   820.853030\n",
      "13               Albania    Europe  1957   59.280   1476505  1942.284244\n",
      "25               Algeria    Africa  1957   45.685  10270856  3013.976023\n",
      "37                Angola    Africa  1957   31.999   4561361  3827.940465\n",
      "49             Argentina  Americas  1957   64.399  19610538  6856.856212\n",
      "...                  ...       ...   ...      ...       ...          ...\n",
      "1645             Vietnam      Asia  1957   42.887  28998543   676.285448\n",
      "1657  West Bank and Gaza      Asia  1957   45.671   1070439  1827.067742\n",
      "1669         Yemen, Rep.      Asia  1957   33.970   5498090   804.830455\n",
      "1681              Zambia    Africa  1957   44.077   3016000  1311.956766\n",
      "1693            Zimbabwe    Africa  1957   50.469   3646340   518.764268\n",
      "\n",
      "[142 rows x 6 columns]\n",
      "key--\n",
      " 1962\n",
      "value--\n",
      "                  country continent  year  lifeExp       pop    gdpPercap\n",
      "2            Afghanistan      Asia  1962   31.997  10267083   853.100710\n",
      "14               Albania    Europe  1962   64.820   1728137  2312.888958\n",
      "26               Algeria    Africa  1962   48.303  11000948  2550.816880\n",
      "38                Angola    Africa  1962   34.000   4826015  4269.276742\n",
      "50             Argentina  Americas  1962   65.142  21283783  7133.166023\n",
      "...                  ...       ...   ...      ...       ...          ...\n",
      "1646             Vietnam      Asia  1962   45.363  33796140   772.049160\n",
      "1658  West Bank and Gaza      Asia  1962   48.127   1133134  2198.956312\n",
      "1670         Yemen, Rep.      Asia  1962   35.180   6120081   825.623201\n",
      "1682              Zambia    Africa  1962   46.023   3421000  1452.725766\n",
      "1694            Zimbabwe    Africa  1962   52.358   4277736   527.272182\n",
      "\n",
      "[142 rows x 6 columns]\n",
      "key--\n",
      " 1967\n",
      "value--\n",
      "                  country continent  year  lifeExp       pop    gdpPercap\n",
      "3            Afghanistan      Asia  1967   34.020  11537966   836.197138\n",
      "15               Albania    Europe  1967   66.220   1984060  2760.196931\n",
      "27               Algeria    Africa  1967   51.407  12760499  3246.991771\n",
      "39                Angola    Africa  1967   35.985   5247469  5522.776375\n",
      "51             Argentina  Americas  1967   65.634  22934225  8052.953021\n",
      "...                  ...       ...   ...      ...       ...          ...\n",
      "1647             Vietnam      Asia  1967   47.838  39463910   637.123289\n",
      "1659  West Bank and Gaza      Asia  1967   51.631   1142636  2649.715007\n",
      "1671         Yemen, Rep.      Asia  1967   36.984   6740785   862.442146\n",
      "1683              Zambia    Africa  1967   47.768   3900000  1777.077318\n",
      "1695            Zimbabwe    Africa  1967   53.995   4995432   569.795071\n",
      "\n",
      "[142 rows x 6 columns]\n",
      "key--\n",
      " 1972\n",
      "value--\n",
      "                  country continent  year  lifeExp       pop    gdpPercap\n",
      "4            Afghanistan      Asia  1972   36.088  13079460   739.981106\n",
      "16               Albania    Europe  1972   67.690   2263554  3313.422188\n",
      "28               Algeria    Africa  1972   54.518  14760787  4182.663766\n",
      "40                Angola    Africa  1972   37.928   5894858  5473.288005\n",
      "52             Argentina  Americas  1972   67.065  24779799  9443.038526\n",
      "...                  ...       ...   ...      ...       ...          ...\n",
      "1648             Vietnam      Asia  1972   50.254  44655014   699.501644\n",
      "1660  West Bank and Gaza      Asia  1972   56.532   1089572  3133.409277\n",
      "1672         Yemen, Rep.      Asia  1972   39.848   7407075  1265.047031\n",
      "1684              Zambia    Africa  1972   50.107   4506497  1773.498265\n",
      "1696            Zimbabwe    Africa  1972   55.635   5861135   799.362176\n",
      "\n",
      "[142 rows x 6 columns]\n",
      "key--\n",
      " 1977\n",
      "value--\n",
      "                  country continent  year  lifeExp       pop     gdpPercap\n",
      "5            Afghanistan      Asia  1977   38.438  14880372    786.113360\n",
      "17               Albania    Europe  1977   68.930   2509048   3533.003910\n",
      "29               Algeria    Africa  1977   58.014  17152804   4910.416756\n",
      "41                Angola    Africa  1977   39.483   6162675   3008.647355\n",
      "53             Argentina  Americas  1977   68.481  26983828  10079.026740\n",
      "...                  ...       ...   ...      ...       ...           ...\n",
      "1649             Vietnam      Asia  1977   55.764  50533506    713.537120\n",
      "1661  West Bank and Gaza      Asia  1977   60.765   1261091   3682.831494\n",
      "1673         Yemen, Rep.      Asia  1977   44.175   8403990   1829.765177\n",
      "1685              Zambia    Africa  1977   51.386   5216550   1588.688299\n",
      "1697            Zimbabwe    Africa  1977   57.674   6642107    685.587682\n",
      "\n",
      "[142 rows x 6 columns]\n",
      "key--\n",
      " 1982\n",
      "value--\n",
      "                  country continent  year  lifeExp       pop    gdpPercap\n",
      "6            Afghanistan      Asia  1982   39.854  12881816   978.011439\n",
      "18               Albania    Europe  1982   70.420   2780097  3630.880722\n",
      "30               Algeria    Africa  1982   61.368  20033753  5745.160213\n",
      "42                Angola    Africa  1982   39.942   7016384  2756.953672\n",
      "54             Argentina  Americas  1982   69.942  29341374  8997.897412\n",
      "...                  ...       ...   ...      ...       ...          ...\n",
      "1650             Vietnam      Asia  1982   58.816  56142181   707.235786\n",
      "1662  West Bank and Gaza      Asia  1982   64.406   1425876  4336.032082\n",
      "1674         Yemen, Rep.      Asia  1982   49.113   9657618  1977.557010\n",
      "1686              Zambia    Africa  1982   51.821   6100407  1408.678565\n",
      "1698            Zimbabwe    Africa  1982   60.363   7636524   788.855041\n",
      "\n",
      "[142 rows x 6 columns]\n",
      "key--\n",
      " 1987\n",
      "value--\n",
      "                  country continent  year  lifeExp       pop    gdpPercap\n",
      "7            Afghanistan      Asia  1987   40.822  13867957   852.395945\n",
      "19               Albania    Europe  1987   72.000   3075321  3738.932735\n",
      "31               Algeria    Africa  1987   65.799  23254956  5681.358539\n",
      "43                Angola    Africa  1987   39.906   7874230  2430.208311\n",
      "55             Argentina  Americas  1987   70.774  31620918  9139.671389\n",
      "...                  ...       ...   ...      ...       ...          ...\n",
      "1651             Vietnam      Asia  1987   62.820  62826491   820.799445\n",
      "1663  West Bank and Gaza      Asia  1987   67.046   1691210  5107.197384\n",
      "1675         Yemen, Rep.      Asia  1987   52.922  11219340  1971.741538\n",
      "1687              Zambia    Africa  1987   50.821   7272406  1213.315116\n",
      "1699            Zimbabwe    Africa  1987   62.351   9216418   706.157306\n",
      "\n",
      "[142 rows x 6 columns]\n",
      "key--\n",
      " 1992\n",
      "value--\n",
      "                  country continent  year  lifeExp       pop    gdpPercap\n",
      "8            Afghanistan      Asia  1992   41.674  16317921   649.341395\n",
      "20               Albania    Europe  1992   71.581   3326498  2497.437901\n",
      "32               Algeria    Africa  1992   67.744  26298373  5023.216647\n",
      "44                Angola    Africa  1992   40.647   8735988  2627.845685\n",
      "56             Argentina  Americas  1992   71.868  33958947  9308.418710\n",
      "...                  ...       ...   ...      ...       ...          ...\n",
      "1652             Vietnam      Asia  1992   67.662  69940728   989.023149\n",
      "1664  West Bank and Gaza      Asia  1992   69.718   2104779  6017.654756\n",
      "1676         Yemen, Rep.      Asia  1992   55.599  13367997  1879.496673\n",
      "1688              Zambia    Africa  1992   46.100   8381163  1210.884633\n",
      "1700            Zimbabwe    Africa  1992   60.377  10704340   693.420786\n",
      "\n",
      "[142 rows x 6 columns]\n",
      "key--\n",
      " 1997\n",
      "value--\n",
      "                  country continent  year  lifeExp       pop     gdpPercap\n",
      "9            Afghanistan      Asia  1997   41.763  22227415    635.341351\n",
      "21               Albania    Europe  1997   72.950   3428038   3193.054604\n",
      "33               Algeria    Africa  1997   69.152  29072015   4797.295051\n",
      "45                Angola    Africa  1997   40.963   9875024   2277.140884\n",
      "57             Argentina  Americas  1997   73.275  36203463  10967.281950\n",
      "...                  ...       ...   ...      ...       ...           ...\n",
      "1653             Vietnam      Asia  1997   70.672  76048996   1385.896769\n",
      "1665  West Bank and Gaza      Asia  1997   71.096   2826046   7110.667619\n",
      "1677         Yemen, Rep.      Asia  1997   58.020  15826497   2117.484526\n",
      "1689              Zambia    Africa  1997   40.238   9417789   1071.353818\n",
      "1701            Zimbabwe    Africa  1997   46.809  11404948    792.449960\n",
      "\n",
      "[142 rows x 6 columns]\n",
      "key--\n",
      " 2002\n",
      "value--\n",
      "                  country continent  year  lifeExp       pop    gdpPercap\n",
      "10           Afghanistan      Asia  2002   42.129  25268405   726.734055\n",
      "22               Albania    Europe  2002   75.651   3508512  4604.211737\n",
      "34               Algeria    Africa  2002   70.994  31287142  5288.040382\n",
      "46                Angola    Africa  2002   41.003  10866106  2773.287312\n",
      "58             Argentina  Americas  2002   74.340  38331121  8797.640716\n",
      "...                  ...       ...   ...      ...       ...          ...\n",
      "1654             Vietnam      Asia  2002   73.017  80908147  1764.456677\n",
      "1666  West Bank and Gaza      Asia  2002   72.370   3389578  4515.487575\n",
      "1678         Yemen, Rep.      Asia  2002   60.308  18701257  2234.820827\n",
      "1690              Zambia    Africa  2002   39.193  10595811  1071.613938\n",
      "1702            Zimbabwe    Africa  2002   39.989  11926563   672.038623\n",
      "\n",
      "[142 rows x 6 columns]\n",
      "key--\n",
      " 2007\n",
      "value--\n",
      "                  country continent  year  lifeExp       pop     gdpPercap\n",
      "11           Afghanistan      Asia  2007   43.828  31889923    974.580338\n",
      "23               Albania    Europe  2007   76.423   3600523   5937.029526\n",
      "35               Algeria    Africa  2007   72.301  33333216   6223.367465\n",
      "47                Angola    Africa  2007   42.731  12420476   4797.231267\n",
      "59             Argentina  Americas  2007   75.320  40301927  12779.379640\n",
      "...                  ...       ...   ...      ...       ...           ...\n",
      "1655             Vietnam      Asia  2007   74.249  85262356   2441.576404\n",
      "1667  West Bank and Gaza      Asia  2007   73.422   4018332   3025.349798\n",
      "1679         Yemen, Rep.      Asia  2007   62.698  22211743   2280.769906\n",
      "1691              Zambia    Africa  2007   42.384  11746035   1271.211593\n",
      "1703            Zimbabwe    Africa  2007   43.487  12311143    469.709298\n",
      "\n",
      "[142 rows x 6 columns]\n",
      "<class 'pandas.core.groupby.generic.DataFrameGroupBy'>\n"
     ]
    }
   ],
   "source": [
    "# 그룹화된 데이터의 키와 밸류 출력\n",
    "grouped_year_df = df.groupby('year')\n",
    "for key, value in grouped_year_df:\n",
    "    print(\"key--\\n\", key)\n",
    "    print(\"value--\\n\", value)\n",
    "print(type(grouped_year_df))"
   ]
  },
  {
   "cell_type": "code",
   "execution_count": 49,
   "metadata": {},
   "outputs": [
    {
     "name": "stdout",
     "output_type": "stream",
     "text": [
      "continent\n",
      "Africa      52\n",
      "Americas    25\n",
      "Asia        33\n",
      "Europe      30\n",
      "Oceania      2\n",
      "Name: country, dtype: int64\n",
      "                  lifeExp     gdpPercap\n",
      "year continent                         \n",
      "1952 Africa     39.135500   1252.572466\n",
      "     Americas   53.279840   4079.062552\n",
      "     Asia       46.314394   5195.484004\n",
      "     Europe     64.408500   5661.057435\n",
      "     Oceania    69.255000  10298.085650\n",
      "1957 Africa     41.266346   1385.236062\n",
      "     Americas   55.960280   4616.043733\n",
      "     Asia       49.318544   5787.732940\n",
      "     Europe     66.703067   6963.012816\n",
      "     Oceania    70.295000  11598.522455\n",
      "1962 Africa     43.319442   1598.078825\n",
      "     Americas   58.398760   4901.541870\n",
      "     Asia       51.563223   5729.369625\n",
      "     Europe     68.539233   8365.486814\n",
      "     Oceania    71.085000  12696.452430\n",
      "1967 Africa     45.334538   2050.363801\n",
      "     Americas   60.410920   5668.253496\n",
      "     Asia       54.663640   5971.173374\n",
      "     Europe     69.737600  10143.823757\n",
      "     Oceania    71.310000  14495.021790\n",
      "1972 Africa     47.450942   2339.615674\n",
      "     Americas   62.394920   6491.334139\n",
      "     Asia       57.319269   8187.468699\n",
      "     Europe     70.775033  12479.575246\n",
      "     Oceania    71.910000  16417.333380\n",
      "1977 Africa     49.580423   2585.938508\n",
      "     Americas   64.391560   7352.007126\n",
      "     Asia       59.610556   7791.314020\n",
      "     Europe     71.937767  14283.979110\n",
      "     Oceania    72.855000  17283.957605\n",
      "1982 Africa     51.592865   2481.592960\n",
      "     Americas   66.228840   7506.737088\n",
      "     Asia       62.617939   7434.135157\n",
      "     Europe     72.806400  15617.896551\n",
      "     Oceania    74.290000  18554.709840\n",
      "1987 Africa     53.344788   2282.668991\n",
      "     Americas   68.090720   7793.400261\n",
      "     Asia       64.851182   7608.226508\n",
      "     Europe     73.642167  17214.310727\n",
      "     Oceania    75.320000  20448.040160\n",
      "1992 Africa     53.629577   2281.810333\n",
      "     Americas   69.568360   8044.934406\n",
      "     Asia       66.537212   8639.690248\n",
      "     Europe     74.440100  17061.568084\n",
      "     Oceania    76.945000  20894.045885\n",
      "1997 Africa     53.598269   2378.759555\n",
      "     Americas   71.150480   8889.300863\n",
      "     Asia       68.020515   9834.093295\n",
      "     Europe     75.505167  19076.781802\n",
      "     Oceania    78.190000  24024.175170\n",
      "2002 Africa     53.325231   2599.385159\n",
      "     Americas   72.422040   9287.677107\n",
      "     Asia       69.233879  10174.090397\n",
      "     Europe     76.700600  21711.732422\n",
      "     Oceania    79.740000  26938.778040\n",
      "2007 Africa     54.806038   3089.032605\n",
      "     Americas   73.608120  11003.031625\n",
      "     Asia       70.728485  12473.026870\n",
      "     Europe     77.648600  25054.481636\n",
      "     Oceania    80.719500  29810.188275\n"
     ]
    }
   ],
   "source": [
    "# 그룹화 한 데이터의 개수 세기\n",
    "print(df.groupby('continent')['country'].nunique())\n",
    "\n",
    "# 여러 열을 한번에 그룹화하고 한번에 계산하기\n",
    "\n",
    "multi_group_var = df.groupby(['year', 'continent'])[['lifeExp', 'gdpPercap']].mean()\n",
    "print(multi_group_var)"
   ]
  },
  {
   "cell_type": "markdown",
   "metadata": {},
   "source": [
    "# 그래프 만들기"
   ]
  },
  {
   "cell_type": "code",
   "execution_count": 52,
   "metadata": {},
   "outputs": [
    {
     "name": "stdout",
     "output_type": "stream",
     "text": [
      "year\n",
      "1952    49.057620\n",
      "1957    51.507401\n",
      "1962    53.609249\n",
      "1967    55.678290\n",
      "1972    57.647386\n",
      "1977    59.570157\n",
      "1982    61.533197\n",
      "1987    63.212613\n",
      "1992    64.160338\n",
      "1997    65.014676\n",
      "2002    65.694923\n",
      "2007    67.007423\n",
      "Name: lifeExp, dtype: float64\n",
      "<class 'pandas.core.series.Series'>\n"
     ]
    }
   ],
   "source": [
    "# matplotlib에서 pyplot 을 이용하여 그래프 그리기\n",
    "# %matplotlib inline은 notebook을 실행한 브라우저에서 바로 그림을 볼 수 있게 해주는 설정\n",
    "%matplotlib inline\n",
    "import matplotlib.pyplot as plt\n",
    "\n",
    "global_yearly_life_expectancy = df.groupby('year')['lifeExp'].mean()\n",
    "print(global_yearly_life_expectancy)\n",
    "print(type(global_yearly_life_expectancy))"
   ]
  },
  {
   "cell_type": "code",
   "execution_count": 57,
   "metadata": {},
   "outputs": [
    {
     "name": "stdout",
     "output_type": "stream",
     "text": [
      "<class 'pandas.core.frame.DataFrame'>\n",
      "RangeIndex: 1704 entries, 0 to 1703\n",
      "Data columns (total 6 columns):\n",
      " #   Column     Non-Null Count  Dtype  \n",
      "---  ------     --------------  -----  \n",
      " 0   country    1704 non-null   object \n",
      " 1   continent  1704 non-null   object \n",
      " 2   year       1704 non-null   int64  \n",
      " 3   lifeExp    1704 non-null   float64\n",
      " 4   pop        1704 non-null   int64  \n",
      " 5   gdpPercap  1704 non-null   float64\n",
      "dtypes: float64(2), int64(2), object(2)\n",
      "memory usage: 80.0+ KB\n",
      "None\n"
     ]
    },
    {
     "data": {
      "text/plain": [
       "<matplotlib.axes._subplots.AxesSubplot at 0x23ff5b4ce50>"
      ]
     },
     "execution_count": 57,
     "metadata": {},
     "output_type": "execute_result"
    },
    {
     "data": {
      "image/png": "[encoded data removed]",
      "text/plain": [
       "<Figure size 432x288 with 1 Axes>"
      ]
     },
     "metadata": {
      "needs_background": "light"
     },
     "output_type": "display_data"
    },
    {
     "data": {
      "image/png": "[encoded data removed]",
      "text/plain": [
       "<Figure size 432x288 with 1 Axes>"
      ]
     },
     "metadata": {
      "needs_background": "light"
     },
     "output_type": "display_data"
    }
   ],
   "source": [
    "global_yearly_life_expectancy.plot()\n",
    "# df를 그려보면 수치로 나타낼 수 있는 모든 데이터를 그래프로 그려주는 것을 볼 수 있다.\n",
    "print(df.info())\n",
    "df.plot()"
   ]
  },
  {
   "cell_type": "code",
   "execution_count": null,
   "metadata": {},
   "outputs": [],
   "source": []
  }
 ],
 "metadata": {
  "kernelspec": {
   "display_name": "Python 3",
   "language": "python",
   "name": "python3"
  },
  "language_info": {
   "codemirror_mode": {
    "name": "ipython",
    "version": 3
   },
   "file_extension": ".py",
   "mimetype": "text/x-python",
   "name": "python",
   "nbconvert_exporter": "python",
   "pygments_lexer": "ipython3",
   "version": "3.8.3"
  }
 },
 "nbformat": 4,
 "nbformat_minor": 2
}
